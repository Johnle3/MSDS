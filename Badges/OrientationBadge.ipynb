{
 "cells": [
  {
   "cell_type": "code",
   "execution_count": 1,
   "id": "06496547",
   "metadata": {},
   "outputs": [
    {
     "name": "stdout",
     "output_type": "stream",
     "text": [
      "Collecting package metadata (current_repodata.json): done\n",
      "Solving environment: done\n",
      "\n",
      "\n",
      "==> WARNING: A newer version of conda exists. <==\n",
      "  current version: 22.9.0\n",
      "  latest version: 23.7.2\n",
      "\n",
      "Please update conda by running\n",
      "\n",
      "    $ conda update -n base -c defaults conda\n",
      "\n",
      "\n",
      "\n",
      "# All requested packages already installed.\n",
      "\n",
      "Retrieving notices: ...working... done\n",
      "233168\n"
     ]
    }
   ],
   "source": [
    "#1 \n",
    "# !conda install -y matplotlib numpy pandas\n",
    "sum1=0\n",
    "\n",
    "for i in range(1,1000):\n",
    "    if i%3==0 or i%5==0:        \n",
    "        sum1+=i\n",
    "\n",
    "print(sum1)"
   ]
  },
  {
   "cell_type": "code",
   "execution_count": 2,
   "id": "4284002d",
   "metadata": {},
   "outputs": [
    {
     "name": "stdout",
     "output_type": "stream",
     "text": [
      "4613732\n"
     ]
    }
   ],
   "source": [
    "fibonacci = [1, 2]\n",
    "\n",
    "while True:\n",
    "    next_value = fibonacci[-1] + fibonacci[-2]\n",
    "    if next_value > 4000000:\n",
    "        break\n",
    "    fibonacci.append(next_value)\n",
    "\n",
    "print(sum(filter(lambda x: x % 2 == 0, fibonacci)))\n"
   ]
  },
  {
   "cell_type": "code",
   "execution_count": 4,
   "id": "4434ec1a",
   "metadata": {},
   "outputs": [
    {
     "name": "stdout",
     "output_type": "stream",
     "text": [
      "6857\n"
     ]
    }
   ],
   "source": [
    "#3 \n",
    "from sympy import nextprime\n",
    "\n",
    "# target = 13195  # This line seems redundant as you overwrite the value below\n",
    "target = 600851475143\n",
    "factor = 2\n",
    "\n",
    "while target > 1:\n",
    "    if target % factor == 0:\n",
    "        target /= factor\n",
    "    else:\n",
    "        factor = nextprime(factor)\n",
    "\n",
    "print(factor)\n"
   ]
  },
  {
   "cell_type": "code",
   "execution_count": 8,
   "id": "a1636673",
   "metadata": {},
   "outputs": [
    {
     "data": {
      "text/plain": [
       "Text(0.5, 1.0, 'Normal Distribution')"
      ]
     },
     "execution_count": 8,
     "metadata": {},
     "output_type": "execute_result"
    }
   ],
   "source": [
    "import numpy as np\n",
    "import matplotlib.pyplot as plt\n",
    "\n",
    "# Parameters\n",
    "size = 10000\n",
    "\n",
    "# 1. Binomial Distribution\n",
    "n, p = 10, 0.5  # number of trials, probability of each trial\n",
    "binomial_data = np.random.binomial(n, p, size)\n",
    "\n",
    "# 2. Poisson Distribution\n",
    "lam = 5  # lambda is the average rate (mean value)\n",
    "poisson_data = np.random.poisson(lam, size)\n",
    "\n",
    "# 3. Normal Distribution\n",
    "mean, std_dev = 0, 1  # mean and standard deviation\n",
    "normal_data = np.random.normal(mean, std_dev, size)\n",
    "\n",
    "# Plotting\n",
    "fig, axes = plt.subplots(3, 1, figsize=(10, 8))\n",
    "\n",
    "axes[0].hist(binomial_data, bins=20, color='blue', alpha=0.7, rwidth=0.85)\n",
    "axes[0].set_title('Binomial Distribution')\n",
    "\n",
    "axes[1].hist(poisson_data, bins=20, color='green', alpha=0.7, rwidth=0.85)\n",
    "axes[1].set_title('Poisson Distribution')\n",
    "\n",
    "axes[2].hist(normal_data, bins=20, color='red', alpha=0.7, rwidth=0.85)\n",
    "axes[2].set_title('Normal Distribution')\n",
    "\n",
    "plt.tight_layout()\n",
    "plt.show()"
   ]
  },
  {
   "cell_type": "code",
   "execution_count": 7,
   "id": "a293c071",
   "metadata": {},
   "outputs": [
    {
     "data": {
      "text/plain": [
       "<Figure size 640x480 with 0 Axes>"
      ]
     },
     "metadata": {},
     "output_type": "display_data"
    }
   ],
   "source": [
    "plt.tight_layout()\n",
    "plt.show()"
   ]
  },
  {
   "cell_type": "code",
   "execution_count": 9,
   "id": "368a1f34",
   "metadata": {},
   "outputs": [
    {
     "data": {
      "text/plain": [
       "<Figure size 1000x800 with 3 Axes>"
      ]
     },
     "metadata": {},
     "output_type": "display_data"
    },
    {
     "data": {
      "text/plain": [
       "<Figure size 1500x800 with 4 Axes>"
      ]
     },
     "metadata": {},
     "output_type": "display_data"
    }
   ],
   "source": [
    "import numpy as np\n",
    "import matplotlib.pyplot as plt\n",
    "\n",
    "# Parameters\n",
    "p = 0.5\n",
    "Ns = [20, 50, 100, 500]  # Different values of N\n",
    "\n",
    "plt.figure(figsize=(15, 8))\n",
    "\n",
    "for i, N in enumerate(Ns):\n",
    "    # Binomial Data\n",
    "    binomial_data = np.random.binomial(N, p, 10000)\n",
    "    \n",
    "    # Corresponding normal distribution\n",
    "    mu = N * p\n",
    "    sigma = np.sqrt(N * p * (1-p))\n",
    "    normal_data = np.random.normal(mu, sigma, 10000)\n",
    "    \n",
    "    plt.subplot(2, 2, i+1)\n",
    "    plt.hist(binomial_data, bins=20, color='blue', alpha=0.5, label=\"Binomial\", density=True)\n",
    "    plt.hist(normal_data, bins=20, color='red', alpha=0.5, label=\"Normal\", density=True)\n",
    "    plt.title(f\"N = {N}\")\n",
    "    plt.legend()\n",
    "\n",
    "plt.tight_layout()\n",
    "plt.savefig(\"binomial_vs_normal.png\")\n",
    "plt.show()\n"
   ]
  },
  {
   "cell_type": "code",
   "execution_count": null,
   "id": "93231731",
   "metadata": {},
   "outputs": [],
   "source": []
  }
 ],
 "metadata": {
  "kernelspec": {
   "display_name": "Python 3",
   "language": "python",
   "name": "python3"
  },
  "language_info": {
   "codemirror_mode": {
    "name": "ipython",
    "version": 3
   },
   "file_extension": ".py",
   "mimetype": "text/x-python",
   "name": "python",
   "nbconvert_exporter": "python",
   "pygments_lexer": "ipython3",
   "version": "3.8.8"
  }
 },
 "nbformat": 4,
 "nbformat_minor": 5
}
